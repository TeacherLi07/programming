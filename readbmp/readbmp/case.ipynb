{
 "cells": [
  {
   "cell_type": "code",
   "execution_count": 1,
   "metadata": {},
   "outputs": [
    {
     "name": "stdout",
     "output_type": "stream",
     "text": [
      "\n",
      "文件ID  BM \n",
      "图像大小(Byte)  246   \n",
      "特定应用  0   \n",
      "图片信息开始地址  54   \n",
      "DIB 头中的字节数 40   \n",
      "图片像素宽度  8   \n",
      "图片像素高度  8   \n",
      "使用颜色平面数  0   \n",
      "每个像素位数  24   \n",
      "BI_RGB  0   \n",
      "原始图像数据大小(Byte) 192 \n",
      "打印分辨率  3780   \n",
      "DPI  3780   \n",
      "调色板中颜色数量  0   \n",
      "重要颜色数量  0   \n",
      "图片数据  [(0, 0, 255), (0, 0, 255), (0, 0, 255), (0, 0, 255), (0, 0, 255)] .... [(0, 0, 255), (0, 0, 255), (0, 0, 255), (0, 0, 255), (0, 0, 255)] \n",
      "\n",
      "红色 占比百分之 100\n"
     ]
    }
   ],
   "source": [
    "import kjcolor\n",
    "\n",
    "p = kjcolor.Readbmp(\"r.bmp\")  # 另存为新文件\n",
    "p.show()\n",
    "p.color_percent()\n"
   ]
  },
  {
   "cell_type": "code",
   "execution_count": 2,
   "metadata": {},
   "outputs": [
    {
     "name": "stdout",
     "output_type": "stream",
     "text": [
      "b'BM\\xf6\\x00\\x00\\x00\\x00\\x00\\x00\\x006\\x00\\x00\\x00(\\x00\\x00\\x00\\x08\\x00\\x00\\x00\\x08\\x00\\x00\\x00\\x01\\x00\\x18\\x00\\x00\\x00\\x00\\x00\\xc0\\x00\\x00\\x00\\xc4\\x0e\\x00\\x00\\xc4\\x0e\\x00\\x00\\x00\\x00\\x00\\x00\\x00\\x00\\x00\\x00\\x00\\x00\\xff\\x00\\x00\\xff\\x00\\x00\\xff\\x00\\x00\\xff\\x00\\x00\\xff\\x00\\x00\\xff\\x00\\x00\\xff\\x00\\x00\\xff\\x00\\x00\\xff\\x00\\x00\\xff\\x00\\x00\\xff\\x00\\x00\\xff\\x00\\x00\\xff\\x00\\x00\\xff\\x00\\x00\\xff\\x00\\x00\\xff\\x00\\x00\\xff\\x00\\x00\\xff\\x00\\x00\\xff\\x00\\x00\\xff\\x00\\x00\\xff\\x00\\x00\\xff\\x00\\x00\\xff\\x00\\x00\\xff\\x00\\x00\\xff\\x00\\x00\\xff\\x00\\x00\\xff\\x00\\x00\\xff\\x00\\x00\\xff\\x00\\x00\\xff\\x00\\x00\\xff\\x00\\x00\\xff\\x00\\x00\\xff\\x00\\x00\\xff\\x00\\x00\\xff\\x00\\x00\\xff\\x00\\x00\\xff\\x00\\x00\\xff\\x00\\x00\\xff\\x00\\x00\\xff\\x00\\x00\\xff\\x00\\x00\\xff\\x00\\x00\\xff\\x00\\x00\\xff\\x00\\x00\\xff\\x00\\x00\\xff\\x00\\x00\\xff\\x00\\x00\\xff\\x00\\x00\\xff\\x00\\x00\\xff\\x00\\x00\\xff\\x00\\x00\\xff\\x00\\x00\\xff\\x00\\x00\\xff\\x00\\x00\\xff\\x00\\x00\\xff\\x00\\x00\\xff\\x00\\x00\\xff\\x00\\x00\\xff\\x00\\x00\\xff\\x00\\x00\\xff\\x00\\x00\\xff\\x00\\x00\\xff\\x00\\x00\\xff'\n"
     ]
    }
   ],
   "source": [
    "\"\"\"\n",
    "r.bmp是8*8的位图，我们改其中有一个点\n",
    "\"\"\"\n",
    "# 打开文件作为可编辑对象\n",
    "with open(\"r.bmp\", \"rb\") as f:\n",
    "    d = f.read()\n",
    "    data = bytearray(d)\n",
    "    print(d)\n",
    "# 随便改一个点数值 54、55、56 是第一个像素点   其中56是BGR 的R值\n",
    "data[56] = 0x00"
   ]
  },
  {
   "cell_type": "code",
   "execution_count": 3,
   "metadata": {},
   "outputs": [
    {
     "name": "stdout",
     "output_type": "stream",
     "text": [
      "\n",
      "文件ID  BM \n",
      "图像大小(Byte)  246   \n",
      "特定应用  0   \n",
      "图片信息开始地址  54   \n",
      "DIB 头中的字节数 40   \n",
      "图片像素宽度  8   \n",
      "图片像素高度  8   \n",
      "使用颜色平面数  0   \n",
      "每个像素位数  24   \n",
      "BI_RGB  0   \n",
      "原始图像数据大小(Byte) 192 \n",
      "打印分辨率  3780   \n",
      "DPI  3780   \n",
      "调色板中颜色数量  0   \n",
      "重要颜色数量  0   \n",
      "图片数据  [(0, 0, 0), (0, 0, 255), (0, 0, 255), (0, 0, 255), (0, 0, 255)] .... [(0, 0, 255), (0, 0, 255), (0, 0, 255), (0, 0, 255), (0, 0, 255)] \n",
      "\n",
      "黑色 占比百分之 1\n",
      "红色 占比百分之 98\n"
     ]
    }
   ],
   "source": [
    "\n",
    "with open(\"rn.bmp\", \"wb\") as f:\n",
    "    f.write(data)\n",
    "\n",
    "p = kjcolor.Readbmp(\"rn.bmp\")\n",
    "p.show()\n",
    "p.color_percent()"
   ]
  }
 ],
 "metadata": {
  "kernelspec": {
   "display_name": "Python 3",
   "language": "python",
   "name": "python3"
  },
  "language_info": {
   "codemirror_mode": {
    "name": "ipython",
    "version": 3
   },
   "file_extension": ".py",
   "mimetype": "text/x-python",
   "name": "python",
   "nbconvert_exporter": "python",
   "pygments_lexer": "ipython3",
   "version": "3.10.6"
  },
  "orig_nbformat": 4
 },
 "nbformat": 4,
 "nbformat_minor": 2
}
